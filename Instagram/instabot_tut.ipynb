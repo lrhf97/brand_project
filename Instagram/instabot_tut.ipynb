{
 "cells": [
  {
   "cell_type": "code",
   "execution_count": 62,
   "metadata": {},
   "outputs": [],
   "source": [
    "from igramscraper.instagram import Instagram\n",
    "import requests\n",
    "import os\n",
    "import json\n",
    "from dotenv import load_dotenv\n",
    "import pathlib\n",
    "import pandas as pd\n",
    "from time import sleep\n",
    "\n",
    "\n",
    "# name the file we want\n",
    "env_file_name = 'awsinsta_cred.env'\n",
    "\n",
    "# designate the path of the file\n",
    "curr_file = pathlib.Path.cwd()\n",
    "\n",
    "# join them\n",
    "env_path = curr_file.joinpath(env_file_name)\n",
    "\n",
    "# load the file\n",
    "load_dotenv(env_path)\n",
    "\n",
    "INpassword = os.getenv(\"passwordN\")\n",
    "test_pw = os.getenv(\"test_pw\")\n",
    "Iusername = os.getenv(\"username\")\n",
    "\n"
   ]
  },
  {
   "cell_type": "code",
   "execution_count": 64,
   "metadata": {},
   "outputs": [
    {
     "ename": "TypeError",
     "evalue": "'NoneType' object is not subscriptable",
     "output_type": "error",
     "traceback": [
      "\u001b[0;31m---------------------------------------------------------------------------\u001b[0m",
      "\u001b[0;31mTypeError\u001b[0m                                 Traceback (most recent call last)",
      "\u001b[1;32m/home/awstclair/github_forks/brand_project/Instagram/instabot_tut.ipynb Cell 2'\u001b[0m in \u001b[0;36m<cell line: 17>\u001b[0;34m()\u001b[0m\n\u001b[1;32m     <a href='vscode-notebook-cell:/home/awstclair/github_forks/brand_project/Instagram/instabot_tut.ipynb#ch0000001?line=14'>15</a>\u001b[0m username \u001b[39m=\u001b[39m \u001b[39m'\u001b[39m\u001b[39mlrhf97\u001b[39m\u001b[39m'\u001b[39m\n\u001b[1;32m     <a href='vscode-notebook-cell:/home/awstclair/github_forks/brand_project/Instagram/instabot_tut.ipynb#ch0000001?line=15'>16</a>\u001b[0m \u001b[39m# followers = []\u001b[39;00m\n\u001b[0;32m---> <a href='vscode-notebook-cell:/home/awstclair/github_forks/brand_project/Instagram/instabot_tut.ipynb#ch0000001?line=16'>17</a>\u001b[0m account \u001b[39m=\u001b[39m instagram\u001b[39m.\u001b[39;49mget_account(username)\n\u001b[1;32m     <a href='vscode-notebook-cell:/home/awstclair/github_forks/brand_project/Instagram/instabot_tut.ipynb#ch0000001?line=17'>18</a>\u001b[0m sleep(\u001b[39m1\u001b[39m)\n\u001b[1;32m     <a href='vscode-notebook-cell:/home/awstclair/github_forks/brand_project/Instagram/instabot_tut.ipynb#ch0000001?line=18'>19</a>\u001b[0m account\u001b[39m.\u001b[39midentifier\n",
      "File \u001b[0;32m~/.local/lib/python3.9/site-packages/igramscraper/instagram.py:1127\u001b[0m, in \u001b[0;36mInstagram.get_account\u001b[0;34m(self, username)\u001b[0m\n\u001b[1;32m   1122\u001b[0m     \u001b[39mraise\u001b[39;00m InstagramException\u001b[39m.\u001b[39mdefault(response\u001b[39m.\u001b[39mtext,\n\u001b[1;32m   1123\u001b[0m                                      response\u001b[39m.\u001b[39mstatus_code)\n\u001b[1;32m   1125\u001b[0m user_array \u001b[39m=\u001b[39m Instagram\u001b[39m.\u001b[39mextract_shared_data_from_body(response\u001b[39m.\u001b[39mtext)\n\u001b[0;32m-> 1127\u001b[0m \u001b[39mif\u001b[39;00m user_array[\u001b[39m'\u001b[39;49m\u001b[39mentry_data\u001b[39;49m\u001b[39m'\u001b[39;49m][\u001b[39m'\u001b[39m\u001b[39mProfilePage\u001b[39m\u001b[39m'\u001b[39m][\u001b[39m0\u001b[39m][\u001b[39m'\u001b[39m\u001b[39mgraphql\u001b[39m\u001b[39m'\u001b[39m][\u001b[39m'\u001b[39m\u001b[39muser\u001b[39m\u001b[39m'\u001b[39m] \u001b[39mis\u001b[39;00m \u001b[39mNone\u001b[39;00m:\n\u001b[1;32m   1128\u001b[0m     \u001b[39mraise\u001b[39;00m InstagramNotFoundException(\n\u001b[1;32m   1129\u001b[0m         \u001b[39m'\u001b[39m\u001b[39mAccount with this username does not exist\u001b[39m\u001b[39m'\u001b[39m)\n\u001b[1;32m   1131\u001b[0m \u001b[39mreturn\u001b[39;00m Account(\n\u001b[1;32m   1132\u001b[0m     user_array[\u001b[39m'\u001b[39m\u001b[39mentry_data\u001b[39m\u001b[39m'\u001b[39m][\u001b[39m'\u001b[39m\u001b[39mProfilePage\u001b[39m\u001b[39m'\u001b[39m][\u001b[39m0\u001b[39m][\u001b[39m'\u001b[39m\u001b[39mgraphql\u001b[39m\u001b[39m'\u001b[39m][\u001b[39m'\u001b[39m\u001b[39muser\u001b[39m\u001b[39m'\u001b[39m])\n",
      "\u001b[0;31mTypeError\u001b[0m: 'NoneType' object is not subscriptable"
     ]
    }
   ],
   "source": [
    "\n",
    "from time import sleep\n",
    "\n",
    "instagram = Instagram()\n",
    "\n",
    "instagram.with_credentials(Iusername,INpassword)\n",
    "instagram.login()\n",
    "# instagram.with_credentials(Iusername,INpassword, '/cachepath')\n",
    "# instagram.login(force=False,two_step_verificator=True)\n",
    "\n",
    "# account = instagram.get_account_by_id(3424685479)\n",
    "# account = instagram.get_account('lrhf97')\n",
    "\n",
    "sleep(2) # Delay to mimic user\n",
    "\n",
    "username = 'lrhf97'\n",
    "# followers = []\n",
    "account = instagram.get_account(username)\n",
    "sleep(1)\n",
    "account.identifier\n",
    "\n",
    "# followers = instagram.get_followers(account.identifier, 150, 100, delayed=True) # Get 150 followers of 'kevin', 100 a time with random delay between requests\n",
    "\n",
    "# for follower in followers['accounts']:\n",
    "#     print(follower)\n",
    "\n",
    "# Available fields\n",
    "# print('Account info:')\n",
    "# print('Id: ', account.identifier)\n",
    "# print('Username: ', account.username)\n",
    "# print('Full name: ', account.full_name)\n",
    "# print('Biography: ', account.biography)\n",
    "# print('Profile pic url: ', account.get_profile_picture_url())\n",
    "# print('External Url: ', account.external_url)\n",
    "# print('Number of published posts: ', account.media_count)\n",
    "# print('Number of followers: ', account.followed_by_count)\n",
    "# print('Number of follows: ', account.follows_count)\n",
    "# print('Is private: ', account.is_private)\n",
    "# print('Is verified: ', account.is_verified)\n",
    "\n",
    "# or simply for printing use \n",
    "# print(account)\n"
   ]
  },
  {
   "cell_type": "code",
   "execution_count": 67,
   "metadata": {},
   "outputs": [
    {
     "ename": "KeyError",
     "evalue": "'ProfilePage'",
     "output_type": "error",
     "traceback": [
      "\u001b[0;31m---------------------------------------------------------------------------\u001b[0m",
      "\u001b[0;31mKeyError\u001b[0m                                  Traceback (most recent call last)",
      "\u001b[1;32m/home/awstclair/github_forks/brand_project/Instagram/instabot_tut.ipynb Cell 3'\u001b[0m in \u001b[0;36m<cell line: 7>\u001b[0;34m()\u001b[0m\n\u001b[1;32m      <a href='vscode-notebook-cell:/home/awstclair/github_forks/brand_project/Instagram/instabot_tut.ipynb#ch0000007?line=4'>5</a>\u001b[0m instagram \u001b[39m=\u001b[39m Instagram()\n\u001b[1;32m      <a href='vscode-notebook-cell:/home/awstclair/github_forks/brand_project/Instagram/instabot_tut.ipynb#ch0000007?line=5'>6</a>\u001b[0m uname \u001b[39m=\u001b[39m\u001b[39m'\u001b[39m\u001b[39mkevin\u001b[39m\u001b[39m'\u001b[39m\n\u001b[0;32m----> <a href='vscode-notebook-cell:/home/awstclair/github_forks/brand_project/Instagram/instabot_tut.ipynb#ch0000007?line=6'>7</a>\u001b[0m awsinsta \u001b[39m=\u001b[39m instagram\u001b[39m.\u001b[39;49mget_account(uname)\n\u001b[1;32m      <a href='vscode-notebook-cell:/home/awstclair/github_forks/brand_project/Instagram/instabot_tut.ipynb#ch0000007?line=7'>8</a>\u001b[0m awsinsta\u001b[39m.\u001b[39mmedia \u001b[39m=\u001b[39m instagram\u001b[39m.\u001b[39mget_medias(uname, \u001b[39m10\u001b[39m)\n\u001b[1;32m      <a href='vscode-notebook-cell:/home/awstclair/github_forks/brand_project/Instagram/instabot_tut.ipynb#ch0000007?line=8'>9</a>\u001b[0m p \u001b[39m=\u001b[39m [pp\u001b[39m.\u001b[39m\u001b[39m__dict__\u001b[39m \u001b[39mfor\u001b[39;00m pp \u001b[39min\u001b[39;00m awsinsta\u001b[39m.\u001b[39mmedia]\n",
      "File \u001b[0;32m~/.local/lib/python3.9/site-packages/igramscraper/instagram.py:1127\u001b[0m, in \u001b[0;36mInstagram.get_account\u001b[0;34m(self, username)\u001b[0m\n\u001b[1;32m   1122\u001b[0m     \u001b[39mraise\u001b[39;00m InstagramException\u001b[39m.\u001b[39mdefault(response\u001b[39m.\u001b[39mtext,\n\u001b[1;32m   1123\u001b[0m                                      response\u001b[39m.\u001b[39mstatus_code)\n\u001b[1;32m   1125\u001b[0m user_array \u001b[39m=\u001b[39m Instagram\u001b[39m.\u001b[39mextract_shared_data_from_body(response\u001b[39m.\u001b[39mtext)\n\u001b[0;32m-> 1127\u001b[0m \u001b[39mif\u001b[39;00m user_array[\u001b[39m'\u001b[39;49m\u001b[39mentry_data\u001b[39;49m\u001b[39m'\u001b[39;49m][\u001b[39m'\u001b[39;49m\u001b[39mProfilePage\u001b[39;49m\u001b[39m'\u001b[39;49m][\u001b[39m0\u001b[39m][\u001b[39m'\u001b[39m\u001b[39mgraphql\u001b[39m\u001b[39m'\u001b[39m][\u001b[39m'\u001b[39m\u001b[39muser\u001b[39m\u001b[39m'\u001b[39m] \u001b[39mis\u001b[39;00m \u001b[39mNone\u001b[39;00m:\n\u001b[1;32m   1128\u001b[0m     \u001b[39mraise\u001b[39;00m InstagramNotFoundException(\n\u001b[1;32m   1129\u001b[0m         \u001b[39m'\u001b[39m\u001b[39mAccount with this username does not exist\u001b[39m\u001b[39m'\u001b[39m)\n\u001b[1;32m   1131\u001b[0m \u001b[39mreturn\u001b[39;00m Account(\n\u001b[1;32m   1132\u001b[0m     user_array[\u001b[39m'\u001b[39m\u001b[39mentry_data\u001b[39m\u001b[39m'\u001b[39m][\u001b[39m'\u001b[39m\u001b[39mProfilePage\u001b[39m\u001b[39m'\u001b[39m][\u001b[39m0\u001b[39m][\u001b[39m'\u001b[39m\u001b[39mgraphql\u001b[39m\u001b[39m'\u001b[39m][\u001b[39m'\u001b[39m\u001b[39muser\u001b[39m\u001b[39m'\u001b[39m])\n",
      "\u001b[0;31mKeyError\u001b[0m: 'ProfilePage'"
     ]
    }
   ],
   "source": [
    "from igramscraper.instagram import Instagram\n",
    "from time import sleep\n",
    "import pandas as pd\n",
    "import requests\n",
    "\n",
    "instagram = Instagram()\n",
    "uname ='kevin'\n",
    "awsinsta = instagram.get_account(uname)\n",
    "awsinsta.media = instagram.get_medias(uname, 10)\n",
    "p = [pp.__dict__ for pp in awsinsta.media]\n",
    "df = pd.DataFrame(p)\n",
    "df['link']\n",
    "comments_df=pd.DataFrame(columns = [\"link\",\"post_id\", \"comment\"])\n",
    "\n",
    "x1=10;\n",
    "\n",
    "def get_media_id(url):\n",
    "    req = requests.get('https://api.instagram.com/oembed/?url={}'.format(url))\n",
    "    media_id = req.json()['media_id']\n",
    "    return media_id\n",
    "\n",
    "def get_posts(link):\n",
    "    id=get_media_id(link)\n",
    "    comment0 = instagram.get_media_comments_by_id(id, 10)\n",
    "    cdf=pd.DataFrame(columns = [\"link\",\"post_id\", \"comment\"])\n",
    "    for comment in comment0['comments']:\n",
    "        cdf=cdf.append({\"link\":link,\"post_id\":id,\"comment\":comment.text},ignore_index = True)\n",
    "    return cdf;   \n",
    "\n",
    "for index, row in df.iterrows():\n",
    "    comments_df=comments_df.append(get_posts(row[\"link\"]), ignore_index = True)\n",
    "\n",
    "comments_df"
   ]
  },
  {
   "cell_type": "code",
   "execution_count": 66,
   "metadata": {},
   "outputs": [
    {
     "ename": "NameError",
     "evalue": "name 'df' is not defined",
     "output_type": "error",
     "traceback": [
      "\u001b[0;31m---------------------------------------------------------------------------\u001b[0m",
      "\u001b[0;31mNameError\u001b[0m                                 Traceback (most recent call last)",
      "\u001b[1;32m/home/awstclair/github_forks/brand_project/Instagram/instabot_tut.ipynb Cell 4'\u001b[0m in \u001b[0;36m<cell line: 1>\u001b[0;34m()\u001b[0m\n\u001b[0;32m----> <a href='vscode-notebook-cell:/home/awstclair/github_forks/brand_project/Instagram/instabot_tut.ipynb#ch0000008?line=0'>1</a>\u001b[0m df\u001b[39m.\u001b[39mhead()\n",
      "\u001b[0;31mNameError\u001b[0m: name 'df' is not defined"
     ]
    }
   ],
   "source": [
    "df.head()"
   ]
  },
  {
   "cell_type": "code",
   "execution_count": null,
   "metadata": {},
   "outputs": [],
   "source": []
  }
 ],
 "metadata": {
  "kernelspec": {
   "display_name": "Python ('word_env')",
   "language": "python",
   "name": "python3"
  },
  "language_info": {
   "codemirror_mode": {
    "name": "ipython",
    "version": 3
   },
   "file_extension": ".py",
   "mimetype": "text/x-python",
   "name": "python",
   "nbconvert_exporter": "python",
   "pygments_lexer": "ipython3",
   "version": ""
  },
  "orig_nbformat": 4,
  "vscode": {
   "interpreter": {
    "hash": "25a19fbe0a9132dfb9279d48d161753c6352f8f9478c2e74383d340069b907c3"
   }
  }
 },
 "nbformat": 4,
 "nbformat_minor": 2
}
