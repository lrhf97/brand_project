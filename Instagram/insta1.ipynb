{
 "cells": [
  {
   "cell_type": "code",
   "execution_count": null,
   "metadata": {},
   "outputs": [],
   "source": [
    "# Get your own followers\n",
    "# Get instance\n",
    "import instaloader\n",
    "L = instaloader.Instaloader()\n",
    "\n",
    "# Login or load session\n",
    "L.login(username, password)        # (login)\n",
    "\n",
    "\n",
    "# Obtain profile metadata\n",
    "profile = instaloader.Profile.from_username(L.context, \"prada\")\n",
    "\n",
    "# Print list of followees\n",
    "follow_list = []\n",
    "count=0\n",
    "for followee in profile.get_followers():\n",
    "    follow_list.append(followee.username)\n",
    "    file = open(\"prada_followers.txt\",\"a+\")\n",
    "    file.write(follow_list[count])\n",
    "    file.write(\"\\n\")\n",
    "    file.close()\n",
    "    print(follow_list[count])\n",
    "    count=count+1\n",
    "# (likewise with profile.get_followers())"
   ]
  }
 ],
 "metadata": {
  "language_info": {
   "name": "python"
  },
  "orig_nbformat": 4
 },
 "nbformat": 4,
 "nbformat_minor": 2
}
