{
 "cells": [
  {
   "cell_type": "code",
   "execution_count": 1,
   "metadata": {},
   "outputs": [
    {
     "name": "stdout",
     "output_type": "stream",
     "text": [
      "200\n"
     ]
    }
   ],
   "source": [
    "import requests\n",
    "import os\n",
    "import json\n",
    "from dotenv import load_dotenv\n",
    "import pathlib\n",
    "import pandas as pd\n",
    "\n",
    "# name the file we want\n",
    "env_file_name = 'lrhf97_twit_cred.env'\n",
    "\n",
    "# designate the path of the file\n",
    "curr_file = pathlib.Path.cwd()\n",
    "\n",
    "# join them\n",
    "env_path = curr_file.joinpath(env_file_name)\n",
    "\n",
    "# load the file\n",
    "load_dotenv(env_path)\n",
    "\n",
    "bearer_token = os.getenv(\"BEARER_TOKEN\")\n",
    "\n",
    "\n",
    "def create_url():\n",
    "    # Replace with user ID below - RidgeSupply =3413455348\n",
    "    user_id = 3413455348\n",
    "    # Right now the max users is hard coded as 10\n",
    "    max_users = 10\n",
    "    \n",
    "    return \"https://api.twitter.com/2/users/{}/followers?max_results={}\".format(user_id,max_users)\n",
    "\n",
    "def get_params():\n",
    "    return {'user.fields': 'id,name,username,created_at,description,public_metrics,verified,location'}\n",
    "\n",
    "def bearer_oauth(r):\n",
    "    \"\"\"\n",
    "    Method required by bearer token authentication.\n",
    "    \"\"\"\n",
    "\n",
    "    r.headers[\"Authorization\"] = f\"Bearer {bearer_token}\"\n",
    "    r.headers[\"User-Agent\"] = \"v2FollowersLookupPython\"\n",
    "    return r\n",
    "\n",
    "\n",
    "def connect_to_endpoint(url, params):\n",
    "    # params['next_token'] = next_token # param object recieved form the create_url function\n",
    "    response = requests.request(\"GET\", url, auth=bearer_oauth, params=params)\n",
    "    print(response.status_code)\n",
    "    if response.status_code != 200:\n",
    "        raise Exception(\n",
    "            \"Request returned an error: {} {}\".format(\n",
    "                response.status_code, response.text\n",
    "            )\n",
    "        )\n",
    "    return response.json()\n",
    "\n",
    "\n",
    "def main():\n",
    "    url = create_url()\n",
    "    params = get_params()\n",
    "    json_response = connect_to_endpoint(url, params)\n",
    "    # print(json.dumps(json_response, indent=4, sort_keys=True))\n",
    "    return json_response\n",
    "\n",
    "ridge_followers= main()"
   ]
  },
  {
   "cell_type": "code",
   "execution_count": 6,
   "metadata": {},
   "outputs": [
    {
     "data": {
      "text/plain": [
       "{'name': 'Andrew Morrison',\n",
       " 'location': 'Charlotte, USA',\n",
       " 'username': 'AWalkerMorrison',\n",
       " 'created_at': '2022-02-03T18:02:43.000Z',\n",
       " 'verified': False,\n",
       " 'id': '1489298184534908930',\n",
       " 'description': 'Husband, father, cyclist, student @NCSUgeospatial.',\n",
       " 'public_metrics': {'followers_count': 29,\n",
       "  'following_count': 1378,\n",
       "  'tweet_count': 30,\n",
       "  'listed_count': 0}}"
      ]
     },
     "execution_count": 6,
     "metadata": {},
     "output_type": "execute_result"
    }
   ],
   "source": [
    "ridge_followers['data'][0]"
   ]
  },
  {
   "cell_type": "code",
   "execution_count": 3,
   "metadata": {},
   "outputs": [
    {
     "data": {
      "text/html": [
       "<div>\n",
       "<style scoped>\n",
       "    .dataframe tbody tr th:only-of-type {\n",
       "        vertical-align: middle;\n",
       "    }\n",
       "\n",
       "    .dataframe tbody tr th {\n",
       "        vertical-align: top;\n",
       "    }\n",
       "\n",
       "    .dataframe thead th {\n",
       "        text-align: right;\n",
       "    }\n",
       "</style>\n",
       "<table border=\"1\" class=\"dataframe\">\n",
       "  <thead>\n",
       "    <tr style=\"text-align: right;\">\n",
       "      <th></th>\n",
       "      <th>name</th>\n",
       "      <th>location</th>\n",
       "      <th>username</th>\n",
       "      <th>created_at</th>\n",
       "      <th>verified</th>\n",
       "      <th>id</th>\n",
       "      <th>description</th>\n",
       "      <th>public_metrics</th>\n",
       "    </tr>\n",
       "  </thead>\n",
       "  <tbody>\n",
       "    <tr>\n",
       "      <th>0</th>\n",
       "      <td>Andrew Morrison</td>\n",
       "      <td>Charlotte, USA</td>\n",
       "      <td>AWalkerMorrison</td>\n",
       "      <td>2022-02-03T18:02:43.000Z</td>\n",
       "      <td>False</td>\n",
       "      <td>1489298184534908930</td>\n",
       "      <td>Husband, father, cyclist, student @NCSUgeospat...</td>\n",
       "      <td>{'followers_count': 29, 'following_count': 137...</td>\n",
       "    </tr>\n",
       "    <tr>\n",
       "      <th>1</th>\n",
       "      <td>Kyle</td>\n",
       "      <td>Texas</td>\n",
       "      <td>Pedalpusher2941</td>\n",
       "      <td>2022-05-10T01:35:39.000Z</td>\n",
       "      <td>False</td>\n",
       "      <td>1523839034723872776</td>\n",
       "      <td>Just a guy nothin fancy - A little bit of this...</td>\n",
       "      <td>{'followers_count': 20, 'following_count': 233...</td>\n",
       "    </tr>\n",
       "    <tr>\n",
       "      <th>2</th>\n",
       "      <td>Daniel Williams</td>\n",
       "      <td>Kentucky, USA</td>\n",
       "      <td>wykydgt</td>\n",
       "      <td>2009-06-23T14:15:03.000Z</td>\n",
       "      <td>False</td>\n",
       "      <td>49985899</td>\n",
       "      <td>Dad, husband, paramedic, adaptive cyclist.</td>\n",
       "      <td>{'followers_count': 212, 'following_count': 56...</td>\n",
       "    </tr>\n",
       "    <tr>\n",
       "      <th>3</th>\n",
       "      <td>Nathan Carroll</td>\n",
       "      <td>Pennsylvania, USA</td>\n",
       "      <td>_Nathanael_C</td>\n",
       "      <td>2016-12-06T15:08:04.000Z</td>\n",
       "      <td>False</td>\n",
       "      <td>806153237107720192</td>\n",
       "      <td>|Artist|Art Educator|Husband|Father|Cyclist|Hi...</td>\n",
       "      <td>{'followers_count': 54, 'following_count': 81,...</td>\n",
       "    </tr>\n",
       "    <tr>\n",
       "      <th>4</th>\n",
       "      <td>Anna Ladas</td>\n",
       "      <td>NaN</td>\n",
       "      <td>bike_bliss</td>\n",
       "      <td>2015-08-05T15:40:03.000Z</td>\n",
       "      <td>False</td>\n",
       "      <td>3307108069</td>\n",
       "      <td></td>\n",
       "      <td>{'followers_count': 1, 'following_count': 27, ...</td>\n",
       "    </tr>\n",
       "  </tbody>\n",
       "</table>\n",
       "</div>"
      ],
      "text/plain": [
       "              name           location         username  \\\n",
       "0  Andrew Morrison     Charlotte, USA  AWalkerMorrison   \n",
       "1             Kyle              Texas  Pedalpusher2941   \n",
       "2  Daniel Williams      Kentucky, USA          wykydgt   \n",
       "3   Nathan Carroll  Pennsylvania, USA     _Nathanael_C   \n",
       "4       Anna Ladas                NaN       bike_bliss   \n",
       "\n",
       "                 created_at  verified                   id  \\\n",
       "0  2022-02-03T18:02:43.000Z     False  1489298184534908930   \n",
       "1  2022-05-10T01:35:39.000Z     False  1523839034723872776   \n",
       "2  2009-06-23T14:15:03.000Z     False             49985899   \n",
       "3  2016-12-06T15:08:04.000Z     False   806153237107720192   \n",
       "4  2015-08-05T15:40:03.000Z     False           3307108069   \n",
       "\n",
       "                                         description  \\\n",
       "0  Husband, father, cyclist, student @NCSUgeospat...   \n",
       "1  Just a guy nothin fancy - A little bit of this...   \n",
       "2         Dad, husband, paramedic, adaptive cyclist.   \n",
       "3  |Artist|Art Educator|Husband|Father|Cyclist|Hi...   \n",
       "4                                                      \n",
       "\n",
       "                                      public_metrics  \n",
       "0  {'followers_count': 29, 'following_count': 137...  \n",
       "1  {'followers_count': 20, 'following_count': 233...  \n",
       "2  {'followers_count': 212, 'following_count': 56...  \n",
       "3  {'followers_count': 54, 'following_count': 81,...  \n",
       "4  {'followers_count': 1, 'following_count': 27, ...  "
      ]
     },
     "execution_count": 3,
     "metadata": {},
     "output_type": "execute_result"
    }
   ],
   "source": [
    "df=pd.DataFrame.from_dict(ridge_followers['data'])\n",
    "df.head(5)"
   ]
  },
  {
   "cell_type": "code",
   "execution_count": 4,
   "metadata": {},
   "outputs": [
    {
     "data": {
      "text/plain": [
       "'Just a guy nothin fancy - A little bit of this and a little bit of that. Ride bikes- The Office - Sports-  Over thinker w/ a touch of western.'"
      ]
     },
     "execution_count": 4,
     "metadata": {},
     "output_type": "execute_result"
    }
   ],
   "source": [
    "df.description[1]"
   ]
  },
  {
   "cell_type": "markdown",
   "metadata": {},
   "source": [
    "## Find likes"
   ]
  },
  {
   "cell_type": "code",
   "execution_count": 7,
   "metadata": {},
   "outputs": [
    {
     "name": "stdout",
     "output_type": "stream",
     "text": [
      "200\n"
     ]
    },
    {
     "data": {
      "text/plain": [
       "{'author_id': '16949790',\n",
       " 'id': '1506734904549249027',\n",
       " 'text': '@sdbeachgirl9 @philgaimon @ridgesupply'}"
      ]
     },
     "execution_count": 7,
     "metadata": {},
     "output_type": "execute_result"
    }
   ],
   "source": [
    "\n",
    "def create_liked_url():\n",
    "    # Tweet fields are adjustable.\n",
    "    # Options include:\n",
    "    # attachments, author_id, context_annotations,\n",
    "    # conversation_id, created_at, entities, geo, id,\n",
    "    # in_reply_to_user_id, lang, non_public_metrics, organic_metrics,\n",
    "    # possibly_sensitive, promoted_metrics, public_metrics, referenced_tweets,\n",
    "    # source, text, and withheld\n",
    "    tweet_fields = \"tweet.fields=text,author_id\"\n",
    "    user_fields = \"user.fields=username\"\n",
    "    # Be sure to replace your-user-id with your own user ID or one of an authenticating user\n",
    "    # You can find a user ID by using the user lookup endpoint\n",
    "    id = 3413455348\n",
    "    # You can adjust ids to include a single Tweets.\n",
    "    # Or you can add to up to 100 comma-separated IDs\n",
    "    liked_url = \"https://api.twitter.com/2/users/{}/liked_tweets\".format(id)\n",
    "    return liked_url, tweet_fields, user_fields\n",
    "\n",
    "def connect_to_liked_endpoint(liked_url, tweet_fields):\n",
    "    response = requests.request(\n",
    "        \"GET\", liked_url, auth=bearer_oauth, params=tweet_fields)\n",
    "    print(response.status_code)\n",
    "    if response.status_code != 200:\n",
    "        raise Exception(\n",
    "            \"Request returned an error: {} {}\".format(\n",
    "                response.status_code, response.text\n",
    "            )\n",
    "        )\n",
    "    return response.json()\n",
    "\n",
    "def main():\n",
    "    liked_url, tweet_fields, user_fields = create_liked_url()\n",
    "    json_response = connect_to_liked_endpoint(liked_url, tweet_fields)\n",
    "    return json_response\n",
    "\n",
    "liked_texts =main()\n",
    "liked_texts['data'][0]"
   ]
  },
  {
   "cell_type": "markdown",
   "metadata": {},
   "source": [
    "## Retweets"
   ]
  },
  {
   "cell_type": "code",
   "execution_count": 8,
   "metadata": {},
   "outputs": [
    {
     "name": "stdout",
     "output_type": "stream",
     "text": [
      "200\n"
     ]
    },
    {
     "data": {
      "text/plain": [
       "{'created_at': '2012-03-29T19:34:36.000Z',\n",
       " 'description': \"Active Optimist. Humanist Principles: https://t.co/Kbx0pLKDFV… Best ideas on Europe's future: https://t.co/qL7Wi1SSl8 UK: https://t.co/ZmulUQVqCP\",\n",
       " 'name': '🐟 🇪🇺🇺🇦Allan Paterson, @RebootGB #FBResist',\n",
       " 'id': '540223123',\n",
       " 'username': 'AllanGPaterson'}"
      ]
     },
     "execution_count": 8,
     "metadata": {},
     "output_type": "execute_result"
    }
   ],
   "source": [
    "\n",
    "def create_url():\n",
    "    # User fields are adjustable, options include:\n",
    "    # created_at, description, entities, id, location, name,\n",
    "    # pinned_tweet_id, profile_image_url, protected,\n",
    "    # public_metrics, url, username, verified, and withheld\n",
    "    user_fields = \"user.fields=created_at,description\"\n",
    "    # You can replace the ID given with the Tweet ID you wish to lookup Retweeting users for\n",
    "    # You can find an ID by using the Tweet lookup endpoint\n",
    "    id = \"1437987598790582277\"\n",
    "    # You can adjust ids to include a single Tweets.\n",
    "    # Or you can add to up to 100 comma-separated IDs\n",
    "    url = \"https://api.twitter.com/2/tweets/{}/retweeted_by\".format(id)\n",
    "    return url, user_fields\n",
    "\n",
    "\n",
    "def bearer_oauth(r):\n",
    "    \"\"\"\n",
    "    Method required by bearer token authentication.\n",
    "    \"\"\"\n",
    "\n",
    "    r.headers[\"Authorization\"] = f\"Bearer {bearer_token}\"\n",
    "    r.headers[\"User-Agent\"] = \"v2RetweetedByPython\"\n",
    "    return r\n",
    "\n",
    "def connect_to_endpoint(url, user_fields):\n",
    "    response = requests.request(\"GET\", url, auth=bearer_oauth, params=user_fields)\n",
    "    print(response.status_code)\n",
    "    if response.status_code != 200:\n",
    "        raise Exception(\n",
    "            \"Request returned an error: {} {}\".format(\n",
    "                response.status_code, response.text\n",
    "            )\n",
    "        )\n",
    "    return response.json()\n",
    "\n",
    "\n",
    "def main():\n",
    "    url, user_fields = create_url()\n",
    "    json_response = connect_to_endpoint(url, user_fields)\n",
    "    return json_response\n",
    "\n",
    "retweets = main()\n",
    "retweets['data'][0]\n",
    "\n"
   ]
  },
  {
   "cell_type": "code",
   "execution_count": 9,
   "metadata": {},
   "outputs": [
    {
     "data": {
      "text/html": [
       "<div>\n",
       "<style scoped>\n",
       "    .dataframe tbody tr th:only-of-type {\n",
       "        vertical-align: middle;\n",
       "    }\n",
       "\n",
       "    .dataframe tbody tr th {\n",
       "        vertical-align: top;\n",
       "    }\n",
       "\n",
       "    .dataframe thead th {\n",
       "        text-align: right;\n",
       "    }\n",
       "</style>\n",
       "<table border=\"1\" class=\"dataframe\">\n",
       "  <thead>\n",
       "    <tr style=\"text-align: right;\">\n",
       "      <th></th>\n",
       "      <th>created_at</th>\n",
       "      <th>description</th>\n",
       "      <th>name</th>\n",
       "      <th>id</th>\n",
       "      <th>username</th>\n",
       "    </tr>\n",
       "  </thead>\n",
       "  <tbody>\n",
       "    <tr>\n",
       "      <th>0</th>\n",
       "      <td>2012-03-29T19:34:36.000Z</td>\n",
       "      <td>Active Optimist. Humanist Principles: https://...</td>\n",
       "      <td>🐟 🇪🇺🇺🇦Allan Paterson, @RebootGB #FBResist</td>\n",
       "      <td>540223123</td>\n",
       "      <td>AllanGPaterson</td>\n",
       "    </tr>\n",
       "    <tr>\n",
       "      <th>1</th>\n",
       "      <td>2018-06-17T22:15:33.000Z</td>\n",
       "      <td>No DM's \\nSeeker of truth and justice.\\n#Resis...</td>\n",
       "      <td>Melissa Johnson</td>\n",
       "      <td>1008473248063991808</td>\n",
       "      <td>eattherich146</td>\n",
       "    </tr>\n",
       "    <tr>\n",
       "      <th>2</th>\n",
       "      <td>2009-08-12T04:39:34.000Z</td>\n",
       "      <td></td>\n",
       "      <td>Gregg Schwinn</td>\n",
       "      <td>64939212</td>\n",
       "      <td>605erLBM</td>\n",
       "    </tr>\n",
       "    <tr>\n",
       "      <th>3</th>\n",
       "      <td>2016-10-15T04:03:33.000Z</td>\n",
       "      <td>PhD, UC Berkeley: School Psychologist \\n#Warri...</td>\n",
       "      <td>Lady Cybele</td>\n",
       "      <td>787141837286875137</td>\n",
       "      <td>lady_cybele</td>\n",
       "    </tr>\n",
       "    <tr>\n",
       "      <th>4</th>\n",
       "      <td>2019-04-09T16:10:36.000Z</td>\n",
       "      <td></td>\n",
       "      <td>Mctrish</td>\n",
       "      <td>1115648212231016450</td>\n",
       "      <td>Mctrish5</td>\n",
       "    </tr>\n",
       "  </tbody>\n",
       "</table>\n",
       "</div>"
      ],
      "text/plain": [
       "                 created_at  \\\n",
       "0  2012-03-29T19:34:36.000Z   \n",
       "1  2018-06-17T22:15:33.000Z   \n",
       "2  2009-08-12T04:39:34.000Z   \n",
       "3  2016-10-15T04:03:33.000Z   \n",
       "4  2019-04-09T16:10:36.000Z   \n",
       "\n",
       "                                         description  \\\n",
       "0  Active Optimist. Humanist Principles: https://...   \n",
       "1  No DM's \\nSeeker of truth and justice.\\n#Resis...   \n",
       "2                                                      \n",
       "3  PhD, UC Berkeley: School Psychologist \\n#Warri...   \n",
       "4                                                      \n",
       "\n",
       "                                        name                   id  \\\n",
       "0  🐟 🇪🇺🇺🇦Allan Paterson, @RebootGB #FBResist            540223123   \n",
       "1                            Melissa Johnson  1008473248063991808   \n",
       "2                              Gregg Schwinn             64939212   \n",
       "3                                Lady Cybele   787141837286875137   \n",
       "4                                    Mctrish  1115648212231016450   \n",
       "\n",
       "         username  \n",
       "0  AllanGPaterson  \n",
       "1   eattherich146  \n",
       "2        605erLBM  \n",
       "3     lady_cybele  \n",
       "4        Mctrish5  "
      ]
     },
     "execution_count": 9,
     "metadata": {},
     "output_type": "execute_result"
    }
   ],
   "source": [
    "df_retweet=pd.DataFrame. from_dict(retweets['data'])\n",
    "df_retweet.head(5)\n"
   ]
  },
  {
   "cell_type": "code",
   "execution_count": null,
   "metadata": {},
   "outputs": [],
   "source": []
  }
 ],
 "metadata": {
  "kernelspec": {
   "display_name": "Python 3.9.5 ('base')",
   "language": "python",
   "name": "python3"
  },
  "language_info": {
   "codemirror_mode": {
    "name": "ipython",
    "version": 3
   },
   "file_extension": ".py",
   "mimetype": "text/x-python",
   "name": "python",
   "nbconvert_exporter": "python",
   "pygments_lexer": "ipython3",
   "version": "3.9.5"
  },
  "orig_nbformat": 4,
  "vscode": {
   "interpreter": {
    "hash": "e9f55480a3d52fb656814511bcf9b0f4a9aa9d223704c7acf2cf578463ab0768"
   }
  }
 },
 "nbformat": 4,
 "nbformat_minor": 2
}
