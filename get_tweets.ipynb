{
 "cells": [
  {
   "cell_type": "code",
   "execution_count": 1,
   "metadata": {},
   "outputs": [
    {
     "name": "stdout",
     "output_type": "stream",
     "text": [
      "200\n"
     ]
    }
   ],
   "source": [
    "import requests\n",
    "import os\n",
    "import json\n",
    "from dotenv import load_dotenv\n",
    "import pathlib\n",
    "import pandas as pd\n",
    "\n",
    "# name the file we want\n",
    "env_file_name = 'lrhf97_twit_cred.env'\n",
    "\n",
    "# designate the path of the file\n",
    "curr_file = pathlib.Path.cwd()\n",
    "\n",
    "# join them\n",
    "env_path = curr_file.joinpath(env_file_name)\n",
    "\n",
    "# load the file\n",
    "load_dotenv(env_path)\n",
    "\n",
    "bearer_token = os.getenv(\"BEARER_TOKEN\")\n",
    "\n",
    "def create_url():\n",
    "    tweet_fields = \"tweet.fields=lang,author_id,text\"\n",
    "    # Tweet fields are adjustable.\n",
    "    # Options include:\n",
    "    # attachments, author_id, context_annotations,\n",
    "    # conversation_id, created_at, entities, geo, id,\n",
    "    # in_reply_to_user_id, lang, non_public_metrics, organic_metrics,\n",
    "    # possibly_sensitive, promoted_metrics, public_metrics, referenced_tweets,\n",
    "    # source, text, and withheld\n",
    "    ids = \"ids=1278747501642657792,1255542774432063488\"\n",
    "    # You can adjust ids to include a single Tweets.\n",
    "    # Or you can add to up to 100 comma-separated IDs\n",
    "    url = \"https://api.twitter.com/2/tweets?{}&{}\".format(ids, tweet_fields)\n",
    "    return url\n",
    "\n",
    "def get_params():\n",
    "    return {'user.fields': 'id,created_at,public_metrics'}\n",
    "\n",
    "def bearer_oauth(r):\n",
    "    \"\"\"\n",
    "    Method required by bearer token authentication.\n",
    "    \"\"\"\n",
    "\n",
    "    r.headers[\"Authorization\"] = f\"Bearer {bearer_token}\"\n",
    "    r.headers[\"User-Agent\"] = \"v2FollowersLookupPython\"\n",
    "    return r\n",
    "\n",
    "\n",
    "def connect_to_endpoint(url, params):\n",
    "    # params['next_token'] = next_token # param object recieved form the create_url function\n",
    "    response = requests.request(\"GET\", url, auth=bearer_oauth, params=params)\n",
    "    print(response.status_code)\n",
    "    if response.status_code != 200:\n",
    "        raise Exception(\n",
    "            \"Request returned an error: {} {}\".format(\n",
    "                response.status_code, response.text\n",
    "            )\n",
    "        )\n",
    "    return response.json()\n",
    "\n",
    "\n",
    "def main():\n",
    "    url = create_url()\n",
    "    params = get_params()\n",
    "    json_response = connect_to_endpoint(url, params)\n",
    "    # print(json.dumps(json_response, indent=4, sort_keys=True))\n",
    "    return json_response\n",
    "\n",
    "tweet_look= main()"
   ]
  },
  {
   "cell_type": "code",
   "execution_count": 3,
   "metadata": {},
   "outputs": [
    {
     "data": {
      "text/plain": [
       "[{'lang': 'en',\n",
       "  'id': '1278747501642657792',\n",
       "  'author_id': '2244994945',\n",
       "  'text': \"It's been a year since Twitter's Developer Labs launched.\\n\\nAs we build towards the next generation of the #TwitterAPI (coming VERY soon), see what we've learned and changed along the way. https://t.co/WvjuEWCa6G\"},\n",
       " {'lang': 'en',\n",
       "  'id': '1255542774432063488',\n",
       "  'author_id': '2244994945',\n",
       "  'text': \"During these unprecedented times, what’s happening on Twitter can help the world better understand &amp; respond to the pandemic. \\n\\nWe're launching a free COVID-19 stream endpoint so qualified devs &amp; researchers can study the public conversation in real-time. https://t.co/BPqMcQzhId\"}]"
      ]
     },
     "execution_count": 3,
     "metadata": {},
     "output_type": "execute_result"
    }
   ],
   "source": [
    "tweet_look['data']"
   ]
  },
  {
   "cell_type": "code",
   "execution_count": 10,
   "metadata": {},
   "outputs": [
    {
     "name": "stdout",
     "output_type": "stream",
     "text": [
      "200\n"
     ]
    }
   ],
   "source": [
    "def search_twitter(query, tweet_fields, bearer_token = bearer_token):\n",
    "    headers = {\"Authorization\": \"Bearer {}\".format(bearer_token)}\n",
    "\n",
    "    url = \"https://api.twitter.com/2/tweets/search/recent?query={}&{}&max_results=10\".format(\n",
    "        query, tweet_fields\n",
    "    )\n",
    "    response = requests.request(\"GET\", url, headers=headers)\n",
    "\n",
    "    print(response.status_code)\n",
    "\n",
    "    if response.status_code != 200:\n",
    "        raise Exception(response.status_code, response.text)\n",
    "    return response.json()\n",
    "\n",
    "#search term\n",
    "query = \"Beto\"\n",
    "#twitter fields to be returned by api call\n",
    "tweet_fields = \"tweet.fields=text,author_id,created_at,lang\"\n",
    "\n",
    "#twitter api call\n",
    "json_response = search_twitter(query=query, tweet_fields=tweet_fields, bearer_token=bearer_token)\n",
    "#pretty printing\n",
    "# print(json.dumps(json_response, indent=4, sort_keys=True))\n",
    "df=pd.DataFrame.from_dict(json_response['data'])\n",
    "\n"
   ]
  },
  {
   "cell_type": "code",
   "execution_count": 11,
   "metadata": {},
   "outputs": [
    {
     "data": {
      "text/html": [
       "<div>\n",
       "<style scoped>\n",
       "    .dataframe tbody tr th:only-of-type {\n",
       "        vertical-align: middle;\n",
       "    }\n",
       "\n",
       "    .dataframe tbody tr th {\n",
       "        vertical-align: top;\n",
       "    }\n",
       "\n",
       "    .dataframe thead th {\n",
       "        text-align: right;\n",
       "    }\n",
       "</style>\n",
       "<table border=\"1\" class=\"dataframe\">\n",
       "  <thead>\n",
       "    <tr style=\"text-align: right;\">\n",
       "      <th></th>\n",
       "      <th>author_id</th>\n",
       "      <th>created_at</th>\n",
       "      <th>lang</th>\n",
       "      <th>text</th>\n",
       "      <th>id</th>\n",
       "    </tr>\n",
       "  </thead>\n",
       "  <tbody>\n",
       "    <tr>\n",
       "      <th>0</th>\n",
       "      <td>854459774037000192</td>\n",
       "      <td>2022-09-02T15:30:41.000Z</td>\n",
       "      <td>es</td>\n",
       "      <td>RT @buxtrep: Beto Ortiz a Aníbal Torres | #Bet...</td>\n",
       "      <td>1565723896808181761</td>\n",
       "    </tr>\n",
       "    <tr>\n",
       "      <th>1</th>\n",
       "      <td>579917073</td>\n",
       "      <td>2022-09-02T15:30:41.000Z</td>\n",
       "      <td>sv</td>\n",
       "      <td>Auto-crítica do nego Beto Rocha: Gud är inte m...</td>\n",
       "      <td>1565723896719998977</td>\n",
       "    </tr>\n",
       "    <tr>\n",
       "      <th>2</th>\n",
       "      <td>364855736</td>\n",
       "      <td>2022-09-02T15:30:26.000Z</td>\n",
       "      <td>es</td>\n",
       "      <td>RT @MattoneFabian: Chicos Basta, se pasan...\\n...</td>\n",
       "      <td>1565723832513691651</td>\n",
       "    </tr>\n",
       "    <tr>\n",
       "      <th>3</th>\n",
       "      <td>1483594455772979206</td>\n",
       "      <td>2022-09-02T15:30:23.000Z</td>\n",
       "      <td>en</td>\n",
       "      <td>RT @neil_lefty: @JHockenbrough @JadedAbby What...</td>\n",
       "      <td>1565723822510284800</td>\n",
       "    </tr>\n",
       "    <tr>\n",
       "      <th>4</th>\n",
       "      <td>148558180</td>\n",
       "      <td>2022-09-02T15:30:15.000Z</td>\n",
       "      <td>es</td>\n",
       "      <td>@hanalfabeto Beto, vos decís, los sicarios, de...</td>\n",
       "      <td>1565723786707705860</td>\n",
       "    </tr>\n",
       "    <tr>\n",
       "      <th>5</th>\n",
       "      <td>1519367546843054084</td>\n",
       "      <td>2022-09-02T15:29:59.000Z</td>\n",
       "      <td>tl</td>\n",
       "      <td>@BetoORourke Oops! “Beto”</td>\n",
       "      <td>1565723721515638784</td>\n",
       "    </tr>\n",
       "    <tr>\n",
       "      <th>6</th>\n",
       "      <td>1508463916623577094</td>\n",
       "      <td>2022-09-02T15:29:46.000Z</td>\n",
       "      <td>pt</td>\n",
       "      <td>Caso João Bosco: Beto Castro será inquirido no...</td>\n",
       "      <td>1565723667874648073</td>\n",
       "    </tr>\n",
       "    <tr>\n",
       "      <th>7</th>\n",
       "      <td>1563328976956690432</td>\n",
       "      <td>2022-09-02T15:29:31.000Z</td>\n",
       "      <td>en</td>\n",
       "      <td>@BetoORourke Beto for governor of Texas!\\nThro...</td>\n",
       "      <td>1565723604838363137</td>\n",
       "    </tr>\n",
       "    <tr>\n",
       "      <th>8</th>\n",
       "      <td>150323329</td>\n",
       "      <td>2022-09-02T15:29:23.000Z</td>\n",
       "      <td>es</td>\n",
       "      <td>@beto_villaaa Feliz cumpleaños, saludos</td>\n",
       "      <td>1565723571552411648</td>\n",
       "    </tr>\n",
       "  </tbody>\n",
       "</table>\n",
       "</div>"
      ],
      "text/plain": [
       "             author_id                created_at lang  \\\n",
       "0   854459774037000192  2022-09-02T15:30:41.000Z   es   \n",
       "1            579917073  2022-09-02T15:30:41.000Z   sv   \n",
       "2            364855736  2022-09-02T15:30:26.000Z   es   \n",
       "3  1483594455772979206  2022-09-02T15:30:23.000Z   en   \n",
       "4            148558180  2022-09-02T15:30:15.000Z   es   \n",
       "5  1519367546843054084  2022-09-02T15:29:59.000Z   tl   \n",
       "6  1508463916623577094  2022-09-02T15:29:46.000Z   pt   \n",
       "7  1563328976956690432  2022-09-02T15:29:31.000Z   en   \n",
       "8            150323329  2022-09-02T15:29:23.000Z   es   \n",
       "\n",
       "                                                text                   id  \n",
       "0  RT @buxtrep: Beto Ortiz a Aníbal Torres | #Bet...  1565723896808181761  \n",
       "1  Auto-crítica do nego Beto Rocha: Gud är inte m...  1565723896719998977  \n",
       "2  RT @MattoneFabian: Chicos Basta, se pasan...\\n...  1565723832513691651  \n",
       "3  RT @neil_lefty: @JHockenbrough @JadedAbby What...  1565723822510284800  \n",
       "4  @hanalfabeto Beto, vos decís, los sicarios, de...  1565723786707705860  \n",
       "5                          @BetoORourke Oops! “Beto”  1565723721515638784  \n",
       "6  Caso João Bosco: Beto Castro será inquirido no...  1565723667874648073  \n",
       "7  @BetoORourke Beto for governor of Texas!\\nThro...  1565723604838363137  \n",
       "8            @beto_villaaa Feliz cumpleaños, saludos  1565723571552411648  "
      ]
     },
     "execution_count": 11,
     "metadata": {},
     "output_type": "execute_result"
    }
   ],
   "source": [
    "df"
   ]
  },
  {
   "cell_type": "code",
   "execution_count": 16,
   "metadata": {},
   "outputs": [
    {
     "data": {
      "text/plain": [
       "'https://api.twitter.com/2/tweets/search/recent?query=Beto&tweet.fields=text,author_id,created_at,lang&max_results=10'"
      ]
     },
     "execution_count": 16,
     "metadata": {},
     "output_type": "execute_result"
    }
   ],
   "source": [
    "url = \"https://api.twitter.com/2/tweets/search/recent?query={}&{}&max_results=10\".format(\n",
    "        query, tweet_fields)\n",
    "url"
   ]
  },
  {
   "cell_type": "code",
   "execution_count": null,
   "metadata": {},
   "outputs": [],
   "source": [
    "query = has:geo (from:NWSNHC OR from:NHC_Atlantic OR from:NWSHouston OR \n",
    "     from:NWSSanAntonio OR from:USGS_TexasRain OR from:USGS_TexasFlood OR from:JeffLindner1) -is:retweet\n",
    "\n",
    "def search_twitter(query, tweet_fields, bearer_token = bearer_token):\n",
    "    headers = {\"Authorization\": \"Bearer {}\".format(bearer_token)}\n",
    "\n",
    "    url = \"https://api.twitter.com/2/tweets/search/recent?query={}&{}&max_results=10\".format(\n",
    "        query, tweet_fields\n",
    "    )\n",
    "    response = requests.request(\"GET\", url, headers=headers)\n",
    "\n",
    "    print(response.status_code)\n",
    "\n",
    "    if response.status_code != 200:\n",
    "        raise Exception(response.status_code, response.text)\n",
    "    return response.json()"
   ]
  },
  {
   "cell_type": "code",
   "execution_count": null,
   "metadata": {},
   "outputs": [],
   "source": [
    "# name the file we want\n",
    "env_file_name = 'lrhf97_twit_cred.env'\n",
    "\n",
    "def load_cred(env_file_name):\n",
    "    curr_path = pathlib.Path.cwd()\n",
    "    env_path = curr_path.joinpath(env_file_name)\n",
    "    load_dotenv(env_path)\n",
    "\n",
    "bearer_token = os.getenv(\"BEARER_TOKEN\")"
   ]
  },
  {
   "cell_type": "markdown",
   "metadata": {},
   "source": [
    "## Tweepy "
   ]
  },
  {
   "cell_type": "code",
   "execution_count": 46,
   "metadata": {},
   "outputs": [
    {
     "name": "stdout",
     "output_type": "stream",
     "text": [
      "RT @kayleighmcenany: Biden announces the official position of the White House:\n",
      "\n",
      "“Donald Trump and MAGA Republicans represent an extremism t…\n",
      "RT @benshapiro: That was the most demagogic, outrageous, and divisive speech I have ever seen from an American president. Joe Biden essenti…\n",
      "RT @newsmax: 'INSANE': Trump reacts to Biden's 'awkward, angry' attack on Republicans. https://t.co/ZTMhrYtLgy https://t.co/xvHuyuvgyV\n",
      "RT @MuellerSheWrote: Here’s why I think the Biden speech was genius. The GOP is trying to break free from Donald (RNC, Coulter, Ingraham, M…\n",
      "RT @JoJoFromJerz: Dear Republicans,\n",
      "While you’re out there whining about President Biden being mean to you, we just learned that the FBI fo…\n",
      "RT @Logi2Media: @TPostMillennial Before WW2 and after, the same Satanic AntiChrist Cult is still at it. They destroyed Christian Russia to…\n",
      "RT @ProjectLincoln: If you have an issue with Biden calling you a fascist, stop being one.\n",
      "RT @XStrategiesLLC: WATCH: #FL07 Republican nominee @CoryMillsFL slams Biden for his divisive speech last night:\n",
      "\n",
      "\"The fact that he continu…\n",
      "RT @AmoneyResists: @tedcruz Tonight, Joe Biden accurately described a fringe minority of Americans in a calm, composed, articulate speech t…\n",
      "RT @charliekirk11: Mentions in Biden's speech:\n",
      "\n",
      "China: 0\n",
      "Crime: 0\n",
      "Inflation: 0\n",
      "Fentanyl: 0\n",
      "The Border: 0\n",
      "Charlottesville: 1\n",
      "January 6th: 2…\n"
     ]
    }
   ],
   "source": [
    "import tweepy\n",
    "client = tweepy.Client(bearer_token=bearer_token)\n",
    "\n",
    "query = 'Biden'\n",
    "tweets = client.search_recent_tweets(query=query, tweet_fields=['context_annotations', 'created_at'], max_results=10)\n",
    "\n",
    "for tweet in tweets.data:\n",
    "    print(tweet.text)\n",
    "    # if len(tweet.context_annotations) > 0:\n",
    "    #     print(tweet.context_annotations)"
   ]
  },
  {
   "cell_type": "code",
   "execution_count": 47,
   "metadata": {},
   "outputs": [
    {
     "ename": "AttributeError",
     "evalue": "'Response' object has no attribute 'json'",
     "output_type": "error",
     "traceback": [
      "\u001b[0;31m---------------------------------------------------------------------------\u001b[0m",
      "\u001b[0;31mAttributeError\u001b[0m                            Traceback (most recent call last)",
      "\u001b[1;32m/home/awstclair/github_forks/brand_project/get_tweets.ipynb Cell 10\u001b[0m in \u001b[0;36m<cell line: 18>\u001b[0;34m()\u001b[0m\n\u001b[1;32m      <a href='vscode-notebook-cell:/home/awstclair/github_forks/brand_project/get_tweets.ipynb#X12sZmlsZQ%3D%3D?line=3'>4</a>\u001b[0m tweets \u001b[39m=\u001b[39m client\u001b[39m.\u001b[39msearch_recent_tweets(query\u001b[39m=\u001b[39mquery,tweet_fields\u001b[39m=\u001b[39m[\u001b[39m'\u001b[39m\u001b[39mcontext_annotations\u001b[39m\u001b[39m'\u001b[39m, \u001b[39m'\u001b[39m\u001b[39mcreated_at\u001b[39m\u001b[39m'\u001b[39m,\u001b[39m'\u001b[39m\u001b[39mgeo\u001b[39m\u001b[39m'\u001b[39m],\n\u001b[1;32m      <a href='vscode-notebook-cell:/home/awstclair/github_forks/brand_project/get_tweets.ipynb#X12sZmlsZQ%3D%3D?line=4'>5</a>\u001b[0m                                                     place_fields\u001b[39m=\u001b[39m[\u001b[39m'\u001b[39m\u001b[39mplace_type\u001b[39m\u001b[39m'\u001b[39m, \u001b[39m'\u001b[39m\u001b[39mgeo\u001b[39m\u001b[39m'\u001b[39m], \n\u001b[1;32m      <a href='vscode-notebook-cell:/home/awstclair/github_forks/brand_project/get_tweets.ipynb#X12sZmlsZQ%3D%3D?line=5'>6</a>\u001b[0m                                                     expansions\u001b[39m=\u001b[39m\u001b[39m'\u001b[39m\u001b[39mgeo.place_id\u001b[39m\u001b[39m'\u001b[39m,\n\u001b[1;32m      <a href='vscode-notebook-cell:/home/awstclair/github_forks/brand_project/get_tweets.ipynb#X12sZmlsZQ%3D%3D?line=6'>7</a>\u001b[0m                                                     max_results\u001b[39m=\u001b[39m\u001b[39m15\u001b[39m)\n\u001b[1;32m      <a href='vscode-notebook-cell:/home/awstclair/github_forks/brand_project/get_tweets.ipynb#X12sZmlsZQ%3D%3D?line=8'>9</a>\u001b[0m \u001b[39m# Get list of places from includes object\u001b[39;00m\n\u001b[1;32m     <a href='vscode-notebook-cell:/home/awstclair/github_forks/brand_project/get_tweets.ipynb#X12sZmlsZQ%3D%3D?line=9'>10</a>\u001b[0m \u001b[39m# places = {p[\"id\"]: p for p in tweets.includes['places']}\u001b[39;00m\n\u001b[1;32m     <a href='vscode-notebook-cell:/home/awstclair/github_forks/brand_project/get_tweets.ipynb#X12sZmlsZQ%3D%3D?line=10'>11</a>\u001b[0m \n\u001b[0;32m   (...)\u001b[0m\n\u001b[1;32m     <a href='vscode-notebook-cell:/home/awstclair/github_forks/brand_project/get_tweets.ipynb#X12sZmlsZQ%3D%3D?line=15'>16</a>\u001b[0m \u001b[39m#         place = places[tweet.geo['place_id']]\u001b[39;00m\n\u001b[1;32m     <a href='vscode-notebook-cell:/home/awstclair/github_forks/brand_project/get_tweets.ipynb#X12sZmlsZQ%3D%3D?line=16'>17</a>\u001b[0m \u001b[39m#         print(place.full_name)\u001b[39;00m\n\u001b[0;32m---> <a href='vscode-notebook-cell:/home/awstclair/github_forks/brand_project/get_tweets.ipynb#X12sZmlsZQ%3D%3D?line=17'>18</a>\u001b[0m test \u001b[39m=\u001b[39m tweets\u001b[39m.\u001b[39;49mjson()\n\u001b[1;32m     <a href='vscode-notebook-cell:/home/awstclair/github_forks/brand_project/get_tweets.ipynb#X12sZmlsZQ%3D%3D?line=18'>19</a>\u001b[0m test[\u001b[39m'\u001b[39m\u001b[39mdata\u001b[39m\u001b[39m'\u001b[39m][\u001b[39m0\u001b[39m]\n",
      "\u001b[0;31mAttributeError\u001b[0m: 'Response' object has no attribute 'json'"
     ]
    }
   ],
   "source": [
    "client = tweepy.Client(bearer_token=bearer_token)\n",
    "\n",
    "query = 'Beto'\n",
    "tweets = client.search_recent_tweets(query=query,tweet_fields=['context_annotations', 'created_at','geo'],\n",
    "                                                    place_fields=['place_type', 'geo'], \n",
    "                                                    expansions='geo.place_id',\n",
    "                                                    max_results=15)\n",
    "\n",
    "# Get list of places from includes object\n",
    "# places = {p[\"id\"]: p for p in tweets.includes['places']}\n",
    "\n",
    "# for tweet in tweets.data:\n",
    "#     print(tweet.id)\n",
    "#     print(tweet.text)\n",
    "#     if places[tweet.geo['place_id']]:\n",
    "#         place = places[tweet.geo['place_id']]\n",
    "#         print(place.full_name)\n",
    "test = tweets.json()\n",
    "test['data'][0]\n"
   ]
  },
  {
   "cell_type": "code",
   "execution_count": 26,
   "metadata": {},
   "outputs": [
    {
     "data": {
      "text/plain": [
       "{'created_at': '2022-09-02T15:40:56.000Z',\n",
       " 'text': 'Abbott Bussing Migrants to Chicago - New York Mayor unhappy with Texas Governor—supports his opponent Beto.  https://t.co/37Fz9pg00Z',\n",
       " 'id': '1565726477286400005',\n",
       " 'context_annotations': [{'domain': {'id': '10',\n",
       "    'name': 'Person',\n",
       "    'description': 'Named people in the world like Nelson Mandela'},\n",
       "   'entity': {'id': '981196086575443968',\n",
       "    'name': \"Beto O'Rourke\",\n",
       "    'description': \"US Representative Beto O'Rourke (TX-16)\"}},\n",
       "  {'domain': {'id': '29',\n",
       "    'name': 'Events [Entity Service]',\n",
       "    'description': 'Entity Service related Events domain'},\n",
       "   'entity': {'id': '1460326911939268610',\n",
       "    'name': '2022 Texas gubernational election'}},\n",
       "  {'domain': {'id': '29',\n",
       "    'name': 'Events [Entity Service]',\n",
       "    'description': 'Entity Service related Events domain'},\n",
       "   'entity': {'id': '1491415810367098880',\n",
       "    'name': 'Texas gubernatorial election, 2022'}},\n",
       "  {'domain': {'id': '35',\n",
       "    'name': 'Politician',\n",
       "    'description': 'Politicians in the world, like Joe Biden'},\n",
       "   'entity': {'id': '981196086575443968',\n",
       "    'name': \"Beto O'Rourke\",\n",
       "    'description': \"US Representative Beto O'Rourke (TX-16)\"}},\n",
       "  {'domain': {'id': '38', 'name': 'Political Race', 'description': ''},\n",
       "   'entity': {'id': '1460326911939268610',\n",
       "    'name': '2022 Texas gubernational election'}},\n",
       "  {'domain': {'id': '38', 'name': 'Political Race', 'description': ''},\n",
       "   'entity': {'id': '1491415810367098880',\n",
       "    'name': 'Texas gubernatorial election, 2022'}},\n",
       "  {'domain': {'id': '131',\n",
       "    'name': 'Unified Twitter Taxonomy',\n",
       "    'description': 'A taxonomy view into the Semantic Core knowledge graph'},\n",
       "   'entity': {'id': '847878884917886977',\n",
       "    'name': 'Politics',\n",
       "    'description': 'Politics'}},\n",
       "  {'domain': {'id': '131',\n",
       "    'name': 'Unified Twitter Taxonomy',\n",
       "    'description': 'A taxonomy view into the Semantic Core knowledge graph'},\n",
       "   'entity': {'id': '981196086575443968',\n",
       "    'name': \"Beto O'Rourke\",\n",
       "    'description': \"US Representative Beto O'Rourke (TX-16)\"}},\n",
       "  {'domain': {'id': '131',\n",
       "    'name': 'Unified Twitter Taxonomy',\n",
       "    'description': 'A taxonomy view into the Semantic Core knowledge graph'},\n",
       "   'entity': {'id': '1070032753834438656',\n",
       "    'name': 'Political figures',\n",
       "    'description': 'Politician'}},\n",
       "  {'domain': {'id': '131',\n",
       "    'name': 'Unified Twitter Taxonomy',\n",
       "    'description': 'A taxonomy view into the Semantic Core knowledge graph'},\n",
       "   'entity': {'id': '1291447199595782144', 'name': 'United States politics'}},\n",
       "  {'domain': {'id': '131',\n",
       "    'name': 'Unified Twitter Taxonomy',\n",
       "    'description': 'A taxonomy view into the Semantic Core knowledge graph'},\n",
       "   'entity': {'id': '1518940645343125504',\n",
       "    'name': 'United States political events'}},\n",
       "  {'domain': {'id': '156',\n",
       "    'name': 'Cities',\n",
       "    'description': 'Cities around the world'},\n",
       "   'entity': {'id': '1012378946615181312',\n",
       "    'name': 'Chicago',\n",
       "    'description': 'Chicago'}},\n",
       "  {'domain': {'id': '159',\n",
       "    'name': 'States',\n",
       "    'description': 'States, provinces, or prefectures, like California or Fukushima Prefecture'},\n",
       "   'entity': {'id': '855432197297192961',\n",
       "    'name': 'Texas',\n",
       "    'description': 'Texas'}}]}"
      ]
     },
     "execution_count": 26,
     "metadata": {},
     "output_type": "execute_result"
    }
   ],
   "source": [
    "tweet.data"
   ]
  },
  {
   "cell_type": "code",
   "execution_count": null,
   "metadata": {},
   "outputs": [],
   "source": []
  }
 ],
 "metadata": {
  "kernelspec": {
   "display_name": "Python 3.9.5 ('miniconda3': virtualenv)",
   "language": "python",
   "name": "python3"
  },
  "language_info": {
   "codemirror_mode": {
    "name": "ipython",
    "version": 3
   },
   "file_extension": ".py",
   "mimetype": "text/x-python",
   "name": "python",
   "nbconvert_exporter": "python",
   "pygments_lexer": "ipython3",
   "version": "3.9.5"
  },
  "orig_nbformat": 4,
  "vscode": {
   "interpreter": {
    "hash": "e9f55480a3d52fb656814511bcf9b0f4a9aa9d223704c7acf2cf578463ab0768"
   }
  }
 },
 "nbformat": 4,
 "nbformat_minor": 2
}
