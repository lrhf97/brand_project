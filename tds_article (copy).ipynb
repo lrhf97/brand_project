{
 "cells": [
  {
   "cell_type": "code",
   "execution_count": 10,
   "source": [
    "import requests\n",
    "import os\n",
    "import json\n",
    "from dotenv import load_dotenv\n",
    "import pathlib\n",
    "import pandas as pd\n",
    "import csv\n",
    "# For parsing the dates received from twitter in readable formats\n",
    "import datetime\n",
    "import dateutil.parser\n",
    "import unicodedata\n",
    "#To add wait time between requests\n",
    "import time\n",
    "\n",
    "# name the file we want\n",
    "env_file_name = 'lrhf97_twit_cred.env'\n",
    "\n",
    "# designate the path of the file\n",
    "curr_file = pathlib.Path.cwd()\n",
    "\n",
    "# join them\n",
    "env_path = curr_file.joinpath(env_file_name)\n",
    "\n",
    "# load the file\n",
    "load_dotenv(env_path)\n",
    "\n",
    "bearer_token = os.getenv(\"BEARER_TOKEN\")\n",
    "\n",
    "\n",
    "def create_url(max_results=50):\n",
    "    user_id = 3413455348\n",
    "    search_url = \"https://api.twitter.com/2/users/{}/followers?max_results={}\".format(user_id,max_results)\n",
    "\n",
    "    params ={'tweet.fields': 'id,text,author_id,in_reply_to_user_id,geo,conversation_id,created_at,lang,public_metrics,referenced_tweets,reply_settings,source',\n",
    "                    'user.fields': 'id,name,username,created_at,description,public_metrics,verified',\n",
    "                    'next_token': {}}\n",
    "    return (search_url, params)\n",
    "\n",
    "\n",
    "def bearer_oauth(r):\n",
    "\n",
    "    r.headers[\"Authorization\"] = f\"Bearer {bearer_token}\"\n",
    "    r.headers[\"User-Agent\"] = \"v2FollowersLookupPython\"\n",
    "    return r\n",
    "\n",
    "\n",
    "def connect_to_endpoint(url, params, next_token=None):\n",
    "    params['pagination_token'] = next_token # param object recieved form the create_url function\n",
    "    response = requests.request(\"GET\", url, auth=bearer_oauth, params=params)\n",
    "    print(response.status_code)\n",
    "    if response.status_code != 200:\n",
    "        raise Exception(\n",
    "            \"Request returned an error: {} {}\".format(\n",
    "                response.status_code, response.text\n",
    "            )\n",
    "        )\n",
    "    return response.json()\n",
    "\n",
    "\n"
   ],
   "outputs": [],
   "metadata": {}
  },
  {
   "cell_type": "code",
   "execution_count": 13,
   "source": [
    "url = create_url()\n",
    "json_response = connect_to_endpoint(url[0], url[1], next_token=None)"
   ],
   "outputs": [
    {
     "output_type": "stream",
     "name": "stdout",
     "text": [
      "200\n"
     ]
    }
   ],
   "metadata": {}
  },
  {
   "cell_type": "code",
   "execution_count": 14,
   "source": [
    "json_response['meta']['next_token']"
   ],
   "outputs": [
    {
     "output_type": "execute_result",
     "data": {
      "text/plain": [
       "'G4OETVHV6PPHCZZZ'"
      ]
     },
     "metadata": {},
     "execution_count": 14
    }
   ],
   "metadata": {}
  },
  {
   "cell_type": "code",
   "execution_count": 17,
   "source": [
    "# df = pd.DataFrame(json_response['data'])\n",
    "# df"
   ],
   "outputs": [],
   "metadata": {}
  },
  {
   "cell_type": "code",
   "execution_count": 18,
   "source": [
    "import csv\n",
    "csvFile = open(\"data2.csv\", \"a\", newline=\"\", encoding='utf-8')\n",
    "csvWriter = csv.writer(csvFile)\n",
    "\n",
    "#Create headers for the data you want to save, in this example, we only want save these columns in our dataset\n",
    "csvWriter.writerow(['id', 'created_at', 'location', 'description','username','name','verified', 'followers_count', 'following_count', 'tweet_count','listed_count'])\n",
    "csvFile.close()"
   ],
   "outputs": [],
   "metadata": {}
  },
  {
   "cell_type": "code",
   "execution_count": 19,
   "source": [
    "def append_to_csv(json_response, fileName):\n",
    "\n",
    "    #A counter variable\n",
    "    counter = 0\n",
    "\n",
    "    #Open OR create the target CSV file\n",
    "    csvFile = open(fileName, \"a\", newline=\"\", encoding='utf-8')\n",
    "    csvWriter = csv.writer(csvFile)\n",
    "\n",
    "    #Loop through each tweet\n",
    "    for tweet in json_response['data']:\n",
    "        \n",
    "        # We will create a variable for each since some of the keys might not exist for some tweets\n",
    "        # So we will account for that\n",
    "\n",
    "        # 1. ID\n",
    "        id = tweet['id']\n",
    "\n",
    "        # 2. Time created\n",
    "        created_at = dateutil.parser.parse(tweet['created_at'])\n",
    "\n",
    "        # 3. location\n",
    "        if ('location' in tweet):   \n",
    "            location = tweet['location']\n",
    "        else:\n",
    "            location = \" \"\n",
    "\n",
    "        # 4. description\n",
    "        description = tweet['description']\n",
    "\n",
    "        # # 5. names\n",
    "        username = tweet['username']\n",
    "        name = tweet['name']\n",
    "        verified = tweet['verified']\n",
    "\n",
    "        # 6. Tweet metrics\n",
    "        followers_count = tweet['public_metrics']['followers_count']\n",
    "        following_count = tweet['public_metrics']['following_count']\n",
    "        tweet_count = tweet['public_metrics']['tweet_count']\n",
    "        listed_count = tweet['public_metrics']['listed_count']\n",
    "\n",
    "        # Assemble all data in a list\n",
    "        res = [id, created_at, location, description,username,name,verified, followers_count, following_count, tweet_count,listed_count]\n",
    "        \n",
    "        # Append the result to the CSV file\n",
    "        csvWriter.writerow(res)\n",
    "        counter += 1\n",
    "\n",
    "    # When done, close the CSV file\n",
    "    csvFile.close()\n",
    "\n",
    "    # Print the number of tweets for this iteration\n",
    "    print(\"# of Followers added from this response: \", counter) "
   ],
   "outputs": [],
   "metadata": {}
  },
  {
   "cell_type": "code",
   "execution_count": 123,
   "source": [
    "append_to_csv(json_response,'data2.csv')"
   ],
   "outputs": [
    {
     "output_type": "stream",
     "name": "stdout",
     "text": [
      "# of Followers added from this response:  15\n"
     ]
    }
   ],
   "metadata": {}
  },
  {
   "cell_type": "code",
   "execution_count": 21,
   "source": [
    "params = url[1]\n",
    "params"
   ],
   "outputs": [
    {
     "output_type": "execute_result",
     "data": {
      "text/plain": [
       "{'tweet.fields': 'id,text,author_id,in_reply_to_user_id,geo,conversation_id,created_at,lang,public_metrics,referenced_tweets,reply_settings,source',\n",
       " 'user.fields': 'id,name,username,created_at,description,public_metrics,verified',\n",
       " 'next_token': {},\n",
       " 'pagination_token': None}"
      ]
     },
     "metadata": {},
     "execution_count": 21
    }
   ],
   "metadata": {}
  },
  {
   "cell_type": "markdown",
   "source": [
    "## This is for looping over tweets - going to try to convert it to get the total list of followers"
   ],
   "metadata": {}
  },
  {
   "cell_type": "code",
   "execution_count": 23,
   "source": [
    "\n",
    "\n",
    "#Total number of followers we collected from the loop\n",
    "total_followers = 0\n",
    "\n",
    "# Create file\n",
    "csvFile = open(\"data2.csv\", \"a\", newline=\"\", encoding='utf-8')\n",
    "csvWriter = csv.writer(csvFile)\n",
    "\n",
    "#Create headers for the data you want to save, in this example, we only want save these columns in our dataset\n",
    "csvWriter.writerow(['id', 'created_at', 'location', 'description','username','name','verified', 'followers_count', 'following_count', 'tweet_count','listed_count'])\n",
    "csvFile.close()\n",
    "#next_token=None\n",
    "\n",
    "# for i in range(0,int(max_results/max_users)+1):\n",
    "\n",
    "# Inputs\n",
    "count = 0 # Counting followers per time period\n",
    "max_count = 350 # Max followers\n",
    "max_results = 50\n",
    "flag = True\n",
    "next_token= None\n",
    "\n",
    "# Check if flag is true\n",
    "while flag:\n",
    "    # Check if max_count reached\n",
    "    if count >= max_count:\n",
    "        break\n",
    "    print(\"-------------------\")\n",
    "    print(\"Token: \",next_token)\n",
    "    params['next_token']=next_token\n",
    "    url = create_url(max_results)        \n",
    "    json_response = connect_to_endpoint(url[0], url[1],params['next_token'])\n",
    "    result_count = json_response['meta']['result_count']\n",
    "\n",
    "    if 'next_token' in json_response['meta']:\n",
    "        # Save the token to use for next call\n",
    "        next_token = json_response['meta']['next_token']\n",
    "        print(\"Next Token: \",next_token)\n",
    "        if result_count is not None and result_count > 0 and next_token is not None:\n",
    "            # print(\"Start Date: \", start_list[i])\n",
    "            append_to_csv(json_response, \"data2.csv\")\n",
    "            count += result_count\n",
    "            total_followers += result_count\n",
    "            print(\"Total # of followers added: \", total_followers)\n",
    "            print(\"count\",count)\n",
    "            print(\"-------------------\")\n",
    "            time.sleep(5)                \n",
    "    # If no next token exists\n",
    "    else:\n",
    "        if result_count is not None and result_count > 0:\n",
    "            print(\"-------------------\")\n",
    "            # print(\"Start Date: \", start_list[i])\n",
    "            append_to_csv(json_response, \"data2.csv\")\n",
    "            count += result_count\n",
    "            total_followers += result_count\n",
    "            print(\"Total # of followers added: \", total_followers)\n",
    "            print(\"count\",count)\n",
    "            print(\"-------------------\")\n",
    "            time.sleep(5)\n",
    "        \n",
    "        #Since this is the final request, turn flag to false to move to the next time period.\n",
    "        flag = False\n",
    "        next_token = None\n",
    "    time.sleep(5)\n",
    "print(\"Total number of results: \", total_followers)"
   ],
   "outputs": [
    {
     "output_type": "stream",
     "name": "stdout",
     "text": [
      "-------------------\n",
      "Token:  None\n",
      "200\n",
      "Next Token:  0OMUPVHV6PPHCZZZ\n",
      "# of Followers added from this response:  50\n",
      "Total # of followers added:  50\n",
      "count 50\n",
      "-------------------\n",
      "-------------------\n",
      "Token:  0OMUPVHV6PPHCZZZ\n",
      "200\n",
      "Next Token:  MTN0C90S1GFHCZZZ\n",
      "# of Followers added from this response:  50\n",
      "Total # of followers added:  100\n",
      "count 100\n",
      "-------------------\n",
      "-------------------\n",
      "Token:  MTN0C90S1GFHCZZZ\n",
      "200\n",
      "Next Token:  0QHJTE5Q0EG1AZZZ\n",
      "# of Followers added from this response:  50\n",
      "Total # of followers added:  150\n",
      "count 150\n",
      "-------------------\n",
      "-------------------\n",
      "Token:  0QHJTE5Q0EG1AZZZ\n",
      "200\n",
      "Next Token:  JPF8L1P9L9GHAZZZ\n",
      "# of Followers added from this response:  50\n",
      "Total # of followers added:  200\n",
      "count 200\n",
      "-------------------\n",
      "-------------------\n",
      "Token:  JPF8L1P9L9GHAZZZ\n",
      "200\n",
      "Next Token:  KPVDHDE0BKTHAZZZ\n",
      "# of Followers added from this response:  50\n",
      "Total # of followers added:  250\n",
      "count 250\n",
      "-------------------\n",
      "-------------------\n",
      "Token:  KPVDHDE0BKTHAZZZ\n",
      "200\n",
      "Next Token:  3M44M2JGK0C1AZZZ\n",
      "# of Followers added from this response:  50\n",
      "Total # of followers added:  300\n",
      "count 300\n",
      "-------------------\n",
      "-------------------\n",
      "Token:  3M44M2JGK0C1AZZZ\n",
      "200\n",
      "-------------------\n",
      "# of Followers added from this response:  32\n",
      "Total # of followers added:  332\n",
      "count 332\n",
      "-------------------\n",
      "Total number of results:  332\n"
     ]
    }
   ],
   "metadata": {}
  },
  {
   "cell_type": "code",
   "execution_count": 12,
   "source": [
    "params['next_token']"
   ],
   "outputs": [
    {
     "output_type": "error",
     "ename": "NameError",
     "evalue": "name 'params' is not defined",
     "traceback": [
      "\u001b[0;31m---------------------------------------------------------------------------\u001b[0m",
      "\u001b[0;31mNameError\u001b[0m                                 Traceback (most recent call last)",
      "\u001b[0;32m/tmp/ipykernel_14974/3077741400.py\u001b[0m in \u001b[0;36m<module>\u001b[0;34m\u001b[0m\n\u001b[0;32m----> 1\u001b[0;31m \u001b[0mparams\u001b[0m\u001b[0;34m[\u001b[0m\u001b[0;34m'next_token'\u001b[0m\u001b[0;34m]\u001b[0m\u001b[0;34m\u001b[0m\u001b[0;34m\u001b[0m\u001b[0m\n\u001b[0m",
      "\u001b[0;31mNameError\u001b[0m: name 'params' is not defined"
     ]
    }
   ],
   "metadata": {}
  },
  {
   "cell_type": "code",
   "execution_count": 98,
   "source": [
    "params"
   ],
   "outputs": [
    {
     "output_type": "execute_result",
     "data": {
      "text/plain": [
       "{'tweet.fields': 'id,text,author_id,in_reply_to_user_id,geo,conversation_id,created_at,lang,public_metrics,referenced_tweets,reply_settings,source',\n",
       " 'user.fields': 'id,name,username,created_at,description,public_metrics,verified',\n",
       " 'next_token': 'KAO53FF871JHEZZZ'}"
      ]
     },
     "metadata": {},
     "execution_count": 98
    }
   ],
   "metadata": {}
  },
  {
   "cell_type": "code",
   "execution_count": 99,
   "source": [
    "json_response['meta']['next_token']"
   ],
   "outputs": [
    {
     "output_type": "execute_result",
     "data": {
      "text/plain": [
       "'KAO53FF871JHEZZZ'"
      ]
     },
     "metadata": {},
     "execution_count": 99
    }
   ],
   "metadata": {}
  },
  {
   "cell_type": "code",
   "execution_count": null,
   "source": [],
   "outputs": [],
   "metadata": {}
  }
 ],
 "metadata": {
  "orig_nbformat": 4,
  "language_info": {
   "name": "python",
   "version": "3.9.7",
   "mimetype": "text/x-python",
   "codemirror_mode": {
    "name": "ipython",
    "version": 3
   },
   "pygments_lexer": "ipython3",
   "nbconvert_exporter": "python",
   "file_extension": ".py"
  },
  "kernelspec": {
   "name": "python3",
   "display_name": "Python 3.9.7 64-bit ('twit_env': conda)"
  },
  "interpreter": {
   "hash": "d731139d9ad7e7749c450c5b8b50ae597506969cf6798becac77e3dbff3ddb16"
  }
 },
 "nbformat": 4,
 "nbformat_minor": 2
}